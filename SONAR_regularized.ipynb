{
 "cells": [
  {
   "cell_type": "markdown",
   "metadata": {},
   "source": [
    "# SONAR MINE DETECTION"
   ]
  },
  {
   "cell_type": "code",
   "execution_count": 311,
   "metadata": {
    "collapsed": true
   },
   "outputs": [],
   "source": [
    "import pandas as pd\n",
    "import numpy as np\n",
    "import matplotlib.pyplot as plt\n",
    "from numpy import linalg as LA"
   ]
  },
  {
   "cell_type": "markdown",
   "metadata": {},
   "source": [
    "# Reading in Sonar Data"
   ]
  },
  {
   "cell_type": "code",
   "execution_count": 312,
   "metadata": {
    "collapsed": true
   },
   "outputs": [],
   "source": [
    "df = pd.read_csv(\"/Users/rohitsuvarna/Downloads/sonar.csv\",header= None)"
   ]
  },
  {
   "cell_type": "code",
   "execution_count": 313,
   "metadata": {
    "scrolled": true
   },
   "outputs": [
    {
     "data": {
      "text/html": [
       "<div>\n",
       "<style>\n",
       "    .dataframe thead tr:only-child th {\n",
       "        text-align: right;\n",
       "    }\n",
       "\n",
       "    .dataframe thead th {\n",
       "        text-align: left;\n",
       "    }\n",
       "\n",
       "    .dataframe tbody tr th {\n",
       "        vertical-align: top;\n",
       "    }\n",
       "</style>\n",
       "<table border=\"1\" class=\"dataframe\">\n",
       "  <thead>\n",
       "    <tr style=\"text-align: right;\">\n",
       "      <th></th>\n",
       "      <th>0</th>\n",
       "      <th>1</th>\n",
       "      <th>2</th>\n",
       "      <th>3</th>\n",
       "      <th>4</th>\n",
       "      <th>5</th>\n",
       "      <th>6</th>\n",
       "      <th>7</th>\n",
       "      <th>8</th>\n",
       "      <th>9</th>\n",
       "      <th>...</th>\n",
       "      <th>51</th>\n",
       "      <th>52</th>\n",
       "      <th>53</th>\n",
       "      <th>54</th>\n",
       "      <th>55</th>\n",
       "      <th>56</th>\n",
       "      <th>57</th>\n",
       "      <th>58</th>\n",
       "      <th>59</th>\n",
       "      <th>60</th>\n",
       "    </tr>\n",
       "  </thead>\n",
       "  <tbody>\n",
       "    <tr>\n",
       "      <th>0</th>\n",
       "      <td>0.0190</td>\n",
       "      <td>0.0038</td>\n",
       "      <td>0.0642</td>\n",
       "      <td>0.0452</td>\n",
       "      <td>0.0333</td>\n",
       "      <td>0.0690</td>\n",
       "      <td>0.0901</td>\n",
       "      <td>0.1454</td>\n",
       "      <td>0.0740</td>\n",
       "      <td>0.0349</td>\n",
       "      <td>...</td>\n",
       "      <td>0.0093</td>\n",
       "      <td>0.0118</td>\n",
       "      <td>0.0112</td>\n",
       "      <td>0.0094</td>\n",
       "      <td>0.0140</td>\n",
       "      <td>0.0072</td>\n",
       "      <td>0.0022</td>\n",
       "      <td>0.0055</td>\n",
       "      <td>0.0122</td>\n",
       "      <td>Rock</td>\n",
       "    </tr>\n",
       "    <tr>\n",
       "      <th>1</th>\n",
       "      <td>0.0151</td>\n",
       "      <td>0.0320</td>\n",
       "      <td>0.0599</td>\n",
       "      <td>0.1050</td>\n",
       "      <td>0.1163</td>\n",
       "      <td>0.1734</td>\n",
       "      <td>0.1679</td>\n",
       "      <td>0.1119</td>\n",
       "      <td>0.0889</td>\n",
       "      <td>0.1205</td>\n",
       "      <td>...</td>\n",
       "      <td>0.0061</td>\n",
       "      <td>0.0015</td>\n",
       "      <td>0.0084</td>\n",
       "      <td>0.0128</td>\n",
       "      <td>0.0054</td>\n",
       "      <td>0.0011</td>\n",
       "      <td>0.0019</td>\n",
       "      <td>0.0023</td>\n",
       "      <td>0.0062</td>\n",
       "      <td>Rock</td>\n",
       "    </tr>\n",
       "    <tr>\n",
       "      <th>2</th>\n",
       "      <td>0.0712</td>\n",
       "      <td>0.0901</td>\n",
       "      <td>0.1276</td>\n",
       "      <td>0.1497</td>\n",
       "      <td>0.1284</td>\n",
       "      <td>0.1165</td>\n",
       "      <td>0.1285</td>\n",
       "      <td>0.1684</td>\n",
       "      <td>0.1830</td>\n",
       "      <td>0.2127</td>\n",
       "      <td>...</td>\n",
       "      <td>0.0154</td>\n",
       "      <td>0.0156</td>\n",
       "      <td>0.0054</td>\n",
       "      <td>0.0030</td>\n",
       "      <td>0.0048</td>\n",
       "      <td>0.0087</td>\n",
       "      <td>0.0101</td>\n",
       "      <td>0.0095</td>\n",
       "      <td>0.0068</td>\n",
       "      <td>Mine</td>\n",
       "    </tr>\n",
       "    <tr>\n",
       "      <th>3</th>\n",
       "      <td>0.1088</td>\n",
       "      <td>0.1278</td>\n",
       "      <td>0.0926</td>\n",
       "      <td>0.1234</td>\n",
       "      <td>0.1276</td>\n",
       "      <td>0.1731</td>\n",
       "      <td>0.1948</td>\n",
       "      <td>0.4262</td>\n",
       "      <td>0.6828</td>\n",
       "      <td>0.5761</td>\n",
       "      <td>...</td>\n",
       "      <td>0.0455</td>\n",
       "      <td>0.0213</td>\n",
       "      <td>0.0082</td>\n",
       "      <td>0.0124</td>\n",
       "      <td>0.0167</td>\n",
       "      <td>0.0103</td>\n",
       "      <td>0.0205</td>\n",
       "      <td>0.0178</td>\n",
       "      <td>0.0187</td>\n",
       "      <td>Mine</td>\n",
       "    </tr>\n",
       "    <tr>\n",
       "      <th>4</th>\n",
       "      <td>0.0086</td>\n",
       "      <td>0.0215</td>\n",
       "      <td>0.0242</td>\n",
       "      <td>0.0445</td>\n",
       "      <td>0.0667</td>\n",
       "      <td>0.0771</td>\n",
       "      <td>0.0499</td>\n",
       "      <td>0.0906</td>\n",
       "      <td>0.1229</td>\n",
       "      <td>0.1185</td>\n",
       "      <td>...</td>\n",
       "      <td>0.0072</td>\n",
       "      <td>0.0054</td>\n",
       "      <td>0.0022</td>\n",
       "      <td>0.0016</td>\n",
       "      <td>0.0029</td>\n",
       "      <td>0.0058</td>\n",
       "      <td>0.0050</td>\n",
       "      <td>0.0024</td>\n",
       "      <td>0.0030</td>\n",
       "      <td>Rock</td>\n",
       "    </tr>\n",
       "  </tbody>\n",
       "</table>\n",
       "<p>5 rows × 61 columns</p>\n",
       "</div>"
      ],
      "text/plain": [
       "       0       1       2       3       4       5       6       7       8   \\\n",
       "0  0.0190  0.0038  0.0642  0.0452  0.0333  0.0690  0.0901  0.1454  0.0740   \n",
       "1  0.0151  0.0320  0.0599  0.1050  0.1163  0.1734  0.1679  0.1119  0.0889   \n",
       "2  0.0712  0.0901  0.1276  0.1497  0.1284  0.1165  0.1285  0.1684  0.1830   \n",
       "3  0.1088  0.1278  0.0926  0.1234  0.1276  0.1731  0.1948  0.4262  0.6828   \n",
       "4  0.0086  0.0215  0.0242  0.0445  0.0667  0.0771  0.0499  0.0906  0.1229   \n",
       "\n",
       "       9   ...       51      52      53      54      55      56      57  \\\n",
       "0  0.0349  ...   0.0093  0.0118  0.0112  0.0094  0.0140  0.0072  0.0022   \n",
       "1  0.1205  ...   0.0061  0.0015  0.0084  0.0128  0.0054  0.0011  0.0019   \n",
       "2  0.2127  ...   0.0154  0.0156  0.0054  0.0030  0.0048  0.0087  0.0101   \n",
       "3  0.5761  ...   0.0455  0.0213  0.0082  0.0124  0.0167  0.0103  0.0205   \n",
       "4  0.1185  ...   0.0072  0.0054  0.0022  0.0016  0.0029  0.0058  0.0050   \n",
       "\n",
       "       58      59    60  \n",
       "0  0.0055  0.0122  Rock  \n",
       "1  0.0023  0.0062  Rock  \n",
       "2  0.0095  0.0068  Mine  \n",
       "3  0.0178  0.0187  Mine  \n",
       "4  0.0024  0.0030  Rock  \n",
       "\n",
       "[5 rows x 61 columns]"
      ]
     },
     "execution_count": 313,
     "metadata": {},
     "output_type": "execute_result"
    }
   ],
   "source": [
    "df.head()"
   ]
  },
  {
   "cell_type": "code",
   "execution_count": 314,
   "metadata": {
    "collapsed": true
   },
   "outputs": [],
   "source": [
    "df[60] = df[60].map({'Mine': 1, 'Rock': 0})"
   ]
  },
  {
   "cell_type": "code",
   "execution_count": 315,
   "metadata": {
    "scrolled": true
   },
   "outputs": [
    {
     "data": {
      "text/html": [
       "<div>\n",
       "<style>\n",
       "    .dataframe thead tr:only-child th {\n",
       "        text-align: right;\n",
       "    }\n",
       "\n",
       "    .dataframe thead th {\n",
       "        text-align: left;\n",
       "    }\n",
       "\n",
       "    .dataframe tbody tr th {\n",
       "        vertical-align: top;\n",
       "    }\n",
       "</style>\n",
       "<table border=\"1\" class=\"dataframe\">\n",
       "  <thead>\n",
       "    <tr style=\"text-align: right;\">\n",
       "      <th></th>\n",
       "      <th>0</th>\n",
       "      <th>1</th>\n",
       "      <th>2</th>\n",
       "      <th>3</th>\n",
       "      <th>4</th>\n",
       "      <th>5</th>\n",
       "      <th>6</th>\n",
       "      <th>7</th>\n",
       "      <th>8</th>\n",
       "      <th>9</th>\n",
       "      <th>...</th>\n",
       "      <th>51</th>\n",
       "      <th>52</th>\n",
       "      <th>53</th>\n",
       "      <th>54</th>\n",
       "      <th>55</th>\n",
       "      <th>56</th>\n",
       "      <th>57</th>\n",
       "      <th>58</th>\n",
       "      <th>59</th>\n",
       "      <th>60</th>\n",
       "    </tr>\n",
       "  </thead>\n",
       "  <tbody>\n",
       "    <tr>\n",
       "      <th>0</th>\n",
       "      <td>0.0190</td>\n",
       "      <td>0.0038</td>\n",
       "      <td>0.0642</td>\n",
       "      <td>0.0452</td>\n",
       "      <td>0.0333</td>\n",
       "      <td>0.0690</td>\n",
       "      <td>0.0901</td>\n",
       "      <td>0.1454</td>\n",
       "      <td>0.0740</td>\n",
       "      <td>0.0349</td>\n",
       "      <td>...</td>\n",
       "      <td>0.0093</td>\n",
       "      <td>0.0118</td>\n",
       "      <td>0.0112</td>\n",
       "      <td>0.0094</td>\n",
       "      <td>0.0140</td>\n",
       "      <td>0.0072</td>\n",
       "      <td>0.0022</td>\n",
       "      <td>0.0055</td>\n",
       "      <td>0.0122</td>\n",
       "      <td>0</td>\n",
       "    </tr>\n",
       "    <tr>\n",
       "      <th>1</th>\n",
       "      <td>0.0151</td>\n",
       "      <td>0.0320</td>\n",
       "      <td>0.0599</td>\n",
       "      <td>0.1050</td>\n",
       "      <td>0.1163</td>\n",
       "      <td>0.1734</td>\n",
       "      <td>0.1679</td>\n",
       "      <td>0.1119</td>\n",
       "      <td>0.0889</td>\n",
       "      <td>0.1205</td>\n",
       "      <td>...</td>\n",
       "      <td>0.0061</td>\n",
       "      <td>0.0015</td>\n",
       "      <td>0.0084</td>\n",
       "      <td>0.0128</td>\n",
       "      <td>0.0054</td>\n",
       "      <td>0.0011</td>\n",
       "      <td>0.0019</td>\n",
       "      <td>0.0023</td>\n",
       "      <td>0.0062</td>\n",
       "      <td>0</td>\n",
       "    </tr>\n",
       "    <tr>\n",
       "      <th>2</th>\n",
       "      <td>0.0712</td>\n",
       "      <td>0.0901</td>\n",
       "      <td>0.1276</td>\n",
       "      <td>0.1497</td>\n",
       "      <td>0.1284</td>\n",
       "      <td>0.1165</td>\n",
       "      <td>0.1285</td>\n",
       "      <td>0.1684</td>\n",
       "      <td>0.1830</td>\n",
       "      <td>0.2127</td>\n",
       "      <td>...</td>\n",
       "      <td>0.0154</td>\n",
       "      <td>0.0156</td>\n",
       "      <td>0.0054</td>\n",
       "      <td>0.0030</td>\n",
       "      <td>0.0048</td>\n",
       "      <td>0.0087</td>\n",
       "      <td>0.0101</td>\n",
       "      <td>0.0095</td>\n",
       "      <td>0.0068</td>\n",
       "      <td>1</td>\n",
       "    </tr>\n",
       "    <tr>\n",
       "      <th>3</th>\n",
       "      <td>0.1088</td>\n",
       "      <td>0.1278</td>\n",
       "      <td>0.0926</td>\n",
       "      <td>0.1234</td>\n",
       "      <td>0.1276</td>\n",
       "      <td>0.1731</td>\n",
       "      <td>0.1948</td>\n",
       "      <td>0.4262</td>\n",
       "      <td>0.6828</td>\n",
       "      <td>0.5761</td>\n",
       "      <td>...</td>\n",
       "      <td>0.0455</td>\n",
       "      <td>0.0213</td>\n",
       "      <td>0.0082</td>\n",
       "      <td>0.0124</td>\n",
       "      <td>0.0167</td>\n",
       "      <td>0.0103</td>\n",
       "      <td>0.0205</td>\n",
       "      <td>0.0178</td>\n",
       "      <td>0.0187</td>\n",
       "      <td>1</td>\n",
       "    </tr>\n",
       "    <tr>\n",
       "      <th>4</th>\n",
       "      <td>0.0086</td>\n",
       "      <td>0.0215</td>\n",
       "      <td>0.0242</td>\n",
       "      <td>0.0445</td>\n",
       "      <td>0.0667</td>\n",
       "      <td>0.0771</td>\n",
       "      <td>0.0499</td>\n",
       "      <td>0.0906</td>\n",
       "      <td>0.1229</td>\n",
       "      <td>0.1185</td>\n",
       "      <td>...</td>\n",
       "      <td>0.0072</td>\n",
       "      <td>0.0054</td>\n",
       "      <td>0.0022</td>\n",
       "      <td>0.0016</td>\n",
       "      <td>0.0029</td>\n",
       "      <td>0.0058</td>\n",
       "      <td>0.0050</td>\n",
       "      <td>0.0024</td>\n",
       "      <td>0.0030</td>\n",
       "      <td>0</td>\n",
       "    </tr>\n",
       "  </tbody>\n",
       "</table>\n",
       "<p>5 rows × 61 columns</p>\n",
       "</div>"
      ],
      "text/plain": [
       "       0       1       2       3       4       5       6       7       8   \\\n",
       "0  0.0190  0.0038  0.0642  0.0452  0.0333  0.0690  0.0901  0.1454  0.0740   \n",
       "1  0.0151  0.0320  0.0599  0.1050  0.1163  0.1734  0.1679  0.1119  0.0889   \n",
       "2  0.0712  0.0901  0.1276  0.1497  0.1284  0.1165  0.1285  0.1684  0.1830   \n",
       "3  0.1088  0.1278  0.0926  0.1234  0.1276  0.1731  0.1948  0.4262  0.6828   \n",
       "4  0.0086  0.0215  0.0242  0.0445  0.0667  0.0771  0.0499  0.0906  0.1229   \n",
       "\n",
       "       9  ...      51      52      53      54      55      56      57      58  \\\n",
       "0  0.0349 ...  0.0093  0.0118  0.0112  0.0094  0.0140  0.0072  0.0022  0.0055   \n",
       "1  0.1205 ...  0.0061  0.0015  0.0084  0.0128  0.0054  0.0011  0.0019  0.0023   \n",
       "2  0.2127 ...  0.0154  0.0156  0.0054  0.0030  0.0048  0.0087  0.0101  0.0095   \n",
       "3  0.5761 ...  0.0455  0.0213  0.0082  0.0124  0.0167  0.0103  0.0205  0.0178   \n",
       "4  0.1185 ...  0.0072  0.0054  0.0022  0.0016  0.0029  0.0058  0.0050  0.0024   \n",
       "\n",
       "       59  60  \n",
       "0  0.0122   0  \n",
       "1  0.0062   0  \n",
       "2  0.0068   1  \n",
       "3  0.0187   1  \n",
       "4  0.0030   0  \n",
       "\n",
       "[5 rows x 61 columns]"
      ]
     },
     "execution_count": 315,
     "metadata": {},
     "output_type": "execute_result"
    }
   ],
   "source": [
    "df.head()"
   ]
  },
  {
   "cell_type": "markdown",
   "metadata": {},
   "source": [
    "### Defining variables r,X"
   ]
  },
  {
   "cell_type": "code",
   "execution_count": 316,
   "metadata": {
    "collapsed": true
   },
   "outputs": [],
   "source": [
    "r = df[60].as_matrix()\n",
    "r = r.reshape(r.shape[0],1)"
   ]
  },
  {
   "cell_type": "code",
   "execution_count": 317,
   "metadata": {
    "collapsed": true
   },
   "outputs": [],
   "source": [
    "X = df.as_matrix()[:,:60]"
   ]
  },
  {
   "cell_type": "code",
   "execution_count": 318,
   "metadata": {
    "collapsed": true
   },
   "outputs": [],
   "source": [
    "rows = df.shape[0]"
   ]
  },
  {
   "cell_type": "code",
   "execution_count": 319,
   "metadata": {
    "collapsed": true
   },
   "outputs": [],
   "source": [
    "def h(y):\n",
    "    return max(1/(1 + np.exp(-1*y)),np.exp(-16))"
   ]
  },
  {
   "cell_type": "code",
   "execution_count": 320,
   "metadata": {
    "collapsed": true
   },
   "outputs": [],
   "source": [
    "hv = np.vectorize(h)"
   ]
  },
  {
   "cell_type": "markdown",
   "metadata": {},
   "source": [
    "### Cross Entropy Error function"
   ]
  },
  {
   "cell_type": "code",
   "execution_count": 321,
   "metadata": {
    "collapsed": true
   },
   "outputs": [],
   "source": [
    "def cross_ent_err(r,y,lamda,w):\n",
    "    r1 = r\n",
    "    y1 = np.log(y)\n",
    "    r2 = 1 - r\n",
    "    #y2 = np.log(1-y)\n",
    "    y2 = 1 - y\n",
    "    low_val = y2 < np.exp(-16)\n",
    "    y2[low_val] = np.exp(-16)\n",
    "    y2 = np.log(y2)\n",
    "    #res = np.dot(r1.T,y1) + np.dot(r2.T,y2) - 0.5*lamda*(LA.norm(w)**2)\n",
    "    res = (np.dot(r1.T,y1) + np.dot(r2.T,y2)) - 0.5*lamda*(np.dot(w.T,w))\n",
    "    return -1*res[0]\n",
    "    "
   ]
  },
  {
   "cell_type": "markdown",
   "metadata": {},
   "source": [
    "### Logistic Regression Function"
   ]
  },
  {
   "cell_type": "code",
   "execution_count": 322,
   "metadata": {
    "collapsed": true
   },
   "outputs": [],
   "source": [
    "def logistic_reg(eta,num_iters,lamda):\n",
    "    w = np.ones((60,1))*0.5\n",
    "    w_0 = 0.5\n",
    "    err = []\n",
    "    for iter_ in range(num_iters):\n",
    "        y = np.dot(X,w) + w_0\n",
    "        y = hv(y)\n",
    "        err.append(cross_ent_err(r,y,lamda,w))\n",
    "        t = (r - y).T\n",
    "        w += eta*(np.dot(t,X).T - lamda*w)\n",
    "        #err.append(cross_ent_err(r,y,lamda,w))\n",
    "        w_0 += eta*sum(r - y)[0]\n",
    "    y = np.dot(X,w) + w_0\n",
    "    y = hv(y)\n",
    "    err.append(cross_ent_err(r,y,lamda,w))\n",
    "    return err,w,w_0\n",
    "        "
   ]
  },
  {
   "cell_type": "code",
   "execution_count": 323,
   "metadata": {
    "collapsed": true
   },
   "outputs": [],
   "source": [
    "lamda_list = [0,0.05,0.1,0.2,0.3,0.4,0.5]\n",
    "eta = 0.001"
   ]
  },
  {
   "cell_type": "markdown",
   "metadata": {},
   "source": [
    "### Plots for various lambdas"
   ]
  },
  {
   "cell_type": "code",
   "execution_count": 324,
   "metadata": {},
   "outputs": [
    {
     "data": {
      "image/png": "[encoded data removed]",
      "text/plain": [
       "<matplotlib.figure.Figure at 0x10e1c2518>"
      ]
     },
     "metadata": {},
     "output_type": "display_data"
    },
    {
     "data": {
      "image/png": "[encoded data removed]",
      "text/plain": [
       "<matplotlib.figure.Figure at 0x10e050be0>"
      ]
     },
     "metadata": {},
     "output_type": "display_data"
    },
    {
     "data": {
      "image/png": "[encoded data removed]",
      "text/plain": [
       "<matplotlib.figure.Figure at 0x104643cc0>"
      ]
     },
     "metadata": {},
     "output_type": "display_data"
    },
    {
     "data": {
      "image/png": "[encoded data removed]",
      "text/plain": [
       "<matplotlib.figure.Figure at 0x10e616160>"
      ]
     },
     "metadata": {},
     "output_type": "display_data"
    },
    {
     "data": {
      "image/png": "[encoded data removed]",
      "text/plain": [
       "<matplotlib.figure.Figure at 0x10e2c6c50>"
      ]
     },
     "metadata": {},
     "output_type": "display_data"
    },
    {
     "data": {
      "image/png": "[encoded data removed]",
      "text/plain": [
       "<matplotlib.figure.Figure at 0x10e6b8978>"
      ]
     },
     "metadata": {},
     "output_type": "display_data"
    },
    {
     "data": {
      "image/png": "[encoded data removed]",
      "text/plain": [
       "<matplotlib.figure.Figure at 0x10eb9cc88>"
      ]
     },
     "metadata": {},
     "output_type": "display_data"
    }
   ],
   "source": [
    "for lamda in lamda_list:\n",
    "    error,w,w_0 = logistic_reg(eta,50,lamda)\n",
    "    plt.plot(error)\n",
    "    plt.xlabel('Iteration Number')\n",
    "    plt.ylabel('Cross Entropy error')\n",
    "    plt.title(\"lamda = %0.3f\"%lamda)\n",
    "    plt.show()"
   ]
  },
  {
   "cell_type": "code",
   "execution_count": 325,
   "metadata": {
    "collapsed": true
   },
   "outputs": [],
   "source": [
    "def class_err(eta,num_iters,lamda):\n",
    "    err,w,w_0 = logistic_reg(eta,num_iters,lamda)\n",
    "    pred = np.dot(X,w) + w_0\n",
    "    pred = hv(pred)\n",
    "    class_1 = pred > 0.5\n",
    "    class_2 = pred <= 0.5\n",
    "    pred[class_1] = 1\n",
    "    pred[class_2] = 0 \n",
    "    l = pred == r\n",
    "    misses = np.count_nonzero(l == False)\n",
    "    cls_err = misses/pred.shape[0]\n",
    "    crs_err = err[-1][0]\n",
    "    l2 = LA.norm(w)\n",
    "    return crs_err,cls_err,l2\n",
    "    \n",
    "    \n",
    "    "
   ]
  },
  {
   "cell_type": "code",
   "execution_count": 326,
   "metadata": {
    "collapsed": true
   },
   "outputs": [],
   "source": [
    "res = np.zeros((7,3))\n",
    "i = 0\n",
    "for lamda in lamda_list:\n",
    "    res[i,:] = class_err(eta,50,lamda)\n",
    "    i+= 1"
   ]
  },
  {
   "cell_type": "code",
   "execution_count": 327,
   "metadata": {
    "collapsed": true
   },
   "outputs": [],
   "source": [
    "res = pd.DataFrame(res.T)"
   ]
  },
  {
   "cell_type": "code",
   "execution_count": 328,
   "metadata": {
    "collapsed": true
   },
   "outputs": [],
   "source": [
    "res.columns = [0,0.05,0.1,0.2,0.3,0.4,0.5]"
   ]
  },
  {
   "cell_type": "code",
   "execution_count": 329,
   "metadata": {},
   "outputs": [
    {
     "data": {
      "text/html": [
       "<div>\n",
       "<style>\n",
       "    .dataframe thead tr:only-child th {\n",
       "        text-align: right;\n",
       "    }\n",
       "\n",
       "    .dataframe thead th {\n",
       "        text-align: left;\n",
       "    }\n",
       "\n",
       "    .dataframe tbody tr th {\n",
       "        vertical-align: top;\n",
       "    }\n",
       "</style>\n",
       "<table border=\"1\" class=\"dataframe\">\n",
       "  <thead>\n",
       "    <tr style=\"text-align: right;\">\n",
       "      <th></th>\n",
       "      <th>0.0</th>\n",
       "      <th>0.05</th>\n",
       "      <th>0.1</th>\n",
       "      <th>0.2</th>\n",
       "      <th>0.3</th>\n",
       "      <th>0.4</th>\n",
       "      <th>0.5</th>\n",
       "    </tr>\n",
       "  </thead>\n",
       "  <tbody>\n",
       "    <tr>\n",
       "      <th>0</th>\n",
       "      <td>102.695001</td>\n",
       "      <td>102.884414</td>\n",
       "      <td>103.072320</td>\n",
       "      <td>103.443651</td>\n",
       "      <td>103.809079</td>\n",
       "      <td>104.168684</td>\n",
       "      <td>104.522549</td>\n",
       "    </tr>\n",
       "    <tr>\n",
       "      <th>1</th>\n",
       "      <td>0.283333</td>\n",
       "      <td>0.283333</td>\n",
       "      <td>0.283333</td>\n",
       "      <td>0.283333</td>\n",
       "      <td>0.277778</td>\n",
       "      <td>0.277778</td>\n",
       "      <td>0.277778</td>\n",
       "    </tr>\n",
       "    <tr>\n",
       "      <th>2</th>\n",
       "      <td>2.615655</td>\n",
       "      <td>2.609749</td>\n",
       "      <td>2.603857</td>\n",
       "      <td>2.592117</td>\n",
       "      <td>2.580435</td>\n",
       "      <td>2.568810</td>\n",
       "      <td>2.557242</td>\n",
       "    </tr>\n",
       "  </tbody>\n",
       "</table>\n",
       "</div>"
      ],
      "text/plain": [
       "         0.00        0.05        0.10        0.20        0.30        0.40  \\\n",
       "0  102.695001  102.884414  103.072320  103.443651  103.809079  104.168684   \n",
       "1    0.283333    0.283333    0.283333    0.283333    0.277778    0.277778   \n",
       "2    2.615655    2.609749    2.603857    2.592117    2.580435    2.568810   \n",
       "\n",
       "         0.50  \n",
       "0  104.522549  \n",
       "1    0.277778  \n",
       "2    2.557242  "
      ]
     },
     "execution_count": 329,
     "metadata": {},
     "output_type": "execute_result"
    }
   ],
   "source": [
    "res"
   ]
  },
  {
   "cell_type": "code",
   "execution_count": 330,
   "metadata": {
    "collapsed": true
   },
   "outputs": [],
   "source": [
    "res = res.rename(index={res.index[0]: 'Cross entropy error'})\n",
    "res = res.rename(index={res.index[1]: 'Classification Error'})\n",
    "res = res.rename(index={res.index[2]: 'L2 norm'})"
   ]
  },
  {
   "cell_type": "code",
   "execution_count": 331,
   "metadata": {},
   "outputs": [
    {
     "data": {
      "text/html": [
       "<div>\n",
       "<style>\n",
       "    .dataframe thead tr:only-child th {\n",
       "        text-align: right;\n",
       "    }\n",
       "\n",
       "    .dataframe thead th {\n",
       "        text-align: left;\n",
       "    }\n",
       "\n",
       "    .dataframe tbody tr th {\n",
       "        vertical-align: top;\n",
       "    }\n",
       "</style>\n",
       "<table border=\"1\" class=\"dataframe\">\n",
       "  <thead>\n",
       "    <tr style=\"text-align: right;\">\n",
       "      <th></th>\n",
       "      <th>0.0</th>\n",
       "      <th>0.05</th>\n",
       "      <th>0.1</th>\n",
       "      <th>0.2</th>\n",
       "      <th>0.3</th>\n",
       "      <th>0.4</th>\n",
       "      <th>0.5</th>\n",
       "    </tr>\n",
       "  </thead>\n",
       "  <tbody>\n",
       "    <tr>\n",
       "      <th>Cross entropy error</th>\n",
       "      <td>102.695001</td>\n",
       "      <td>102.884414</td>\n",
       "      <td>103.072320</td>\n",
       "      <td>103.443651</td>\n",
       "      <td>103.809079</td>\n",
       "      <td>104.168684</td>\n",
       "      <td>104.522549</td>\n",
       "    </tr>\n",
       "    <tr>\n",
       "      <th>Classification Error</th>\n",
       "      <td>0.283333</td>\n",
       "      <td>0.283333</td>\n",
       "      <td>0.283333</td>\n",
       "      <td>0.283333</td>\n",
       "      <td>0.277778</td>\n",
       "      <td>0.277778</td>\n",
       "      <td>0.277778</td>\n",
       "    </tr>\n",
       "    <tr>\n",
       "      <th>L2 norm</th>\n",
       "      <td>2.615655</td>\n",
       "      <td>2.609749</td>\n",
       "      <td>2.603857</td>\n",
       "      <td>2.592117</td>\n",
       "      <td>2.580435</td>\n",
       "      <td>2.568810</td>\n",
       "      <td>2.557242</td>\n",
       "    </tr>\n",
       "  </tbody>\n",
       "</table>\n",
       "</div>"
      ],
      "text/plain": [
       "                            0.00        0.05        0.10        0.20  \\\n",
       "Cross entropy error   102.695001  102.884414  103.072320  103.443651   \n",
       "Classification Error    0.283333    0.283333    0.283333    0.283333   \n",
       "L2 norm                 2.615655    2.609749    2.603857    2.592117   \n",
       "\n",
       "                            0.30        0.40        0.50  \n",
       "Cross entropy error   103.809079  104.168684  104.522549  \n",
       "Classification Error    0.277778    0.277778    0.277778  \n",
       "L2 norm                 2.580435    2.568810    2.557242  "
      ]
     },
     "execution_count": 331,
     "metadata": {},
     "output_type": "execute_result"
    }
   ],
   "source": [
    "res"
   ]
  },
  {
   "cell_type": "markdown",
   "metadata": {},
   "source": [
    "### Cross Validation"
   ]
  },
  {
   "cell_type": "code",
   "execution_count": 332,
   "metadata": {
    "collapsed": true
   },
   "outputs": [],
   "source": [
    "def logistic_reg_cv(eta,num_iters,lamda,X,r):\n",
    "    w = np.ones((60,1))*0.5\n",
    "    w_0 = 0.5\n",
    "    err = []\n",
    "    for iter_ in range(num_iters):\n",
    "        y = np.dot(X,w) + w_0\n",
    "        y = hv(y)\n",
    "        err.append(cross_ent_err(r,y,lamda,w))\n",
    "        t = (r - y).T\n",
    "        w += eta*(np.dot(t,X).T - lamda*w)\n",
    "        #err.append(cross_ent_err(r,y,lamda,w))\n",
    "        w_0 += eta*sum(r - y)[0]\n",
    "    y = np.dot(X,w) + w_0\n",
    "    y = hv(y)\n",
    "    err.append(cross_ent_err(r,y,lamda,w))\n",
    "    return err,w,w_0"
   ]
  },
  {
   "cell_type": "code",
   "execution_count": 333,
   "metadata": {
    "collapsed": true
   },
   "outputs": [],
   "source": [
    "#5 parts of dataset\n",
    "k = 5\n",
    "num_iters = 50\n",
    "df_parts = np.array_split(df,5)\n",
    "\n",
    "cls_err_cv = np.zeros((1,7))\n",
    "def class_err_cv(lamda):\n",
    "    misses = 0\n",
    "    for i in range(5):\n",
    "        test = df_parts[i]\n",
    "        X_test = test.as_matrix()[:,:60]\n",
    "        r_test = test[60].as_matrix()\n",
    "        r_test = r_test.reshape(r_test.shape[0],1)\n",
    "        train = df_parts.copy()\n",
    "        del train[i]\n",
    "        train = pd.concat(train)\n",
    "        X = train.as_matrix()[:,:60]\n",
    "        r = train[60].as_matrix()\n",
    "        r = r.reshape(r.shape[0],1)\n",
    "        err,w,w_0 = logistic_reg_cv(eta,num_iters,lamda,X,r)\n",
    "        pred = np.dot(X_test,w) + w_0\n",
    "        pred = hv(pred)\n",
    "        class_1 = pred > 0.5\n",
    "        class_2 = pred <= 0.5\n",
    "        pred[class_1] = 1\n",
    "        pred[class_2] = 0 \n",
    "        l = pred == r_test\n",
    "        misses += np.count_nonzero(l == False)\n",
    "    return misses/180"
   ]
  },
  {
   "cell_type": "code",
   "execution_count": 334,
   "metadata": {
    "collapsed": true
   },
   "outputs": [],
   "source": [
    "i = 0\n",
    "for lamda in lamda_list:\n",
    "       cls_err_cv[:,i] = class_err_cv(lamda)\n",
    "       i = i + 1"
   ]
  },
  {
   "cell_type": "code",
   "execution_count": 335,
   "metadata": {
    "collapsed": true
   },
   "outputs": [],
   "source": [
    "cv_row = pd.DataFrame(cls_err_cv)\n",
    "cv_row.columns = [0.0,0.05,0.1,0.2,0.3,0.4,0.5]\n",
    "cv_row= cv_row.rename(index={cv_row.index[0]: 'Cross Val Class error'})\n",
    "res = res.append(cv_row)"
   ]
  },
  {
   "cell_type": "code",
   "execution_count": 336,
   "metadata": {},
   "outputs": [
    {
     "data": {
      "text/html": [
       "<div>\n",
       "<style>\n",
       "    .dataframe thead tr:only-child th {\n",
       "        text-align: right;\n",
       "    }\n",
       "\n",
       "    .dataframe thead th {\n",
       "        text-align: left;\n",
       "    }\n",
       "\n",
       "    .dataframe tbody tr th {\n",
       "        vertical-align: top;\n",
       "    }\n",
       "</style>\n",
       "<table border=\"1\" class=\"dataframe\">\n",
       "  <thead>\n",
       "    <tr style=\"text-align: right;\">\n",
       "      <th></th>\n",
       "      <th>0.0</th>\n",
       "      <th>0.05</th>\n",
       "      <th>0.1</th>\n",
       "      <th>0.2</th>\n",
       "      <th>0.3</th>\n",
       "      <th>0.4</th>\n",
       "      <th>0.5</th>\n",
       "    </tr>\n",
       "  </thead>\n",
       "  <tbody>\n",
       "    <tr>\n",
       "      <th>Cross entropy error</th>\n",
       "      <td>102.695001</td>\n",
       "      <td>102.884414</td>\n",
       "      <td>103.072320</td>\n",
       "      <td>103.443651</td>\n",
       "      <td>103.809079</td>\n",
       "      <td>104.168684</td>\n",
       "      <td>104.522549</td>\n",
       "    </tr>\n",
       "    <tr>\n",
       "      <th>Classification Error</th>\n",
       "      <td>0.283333</td>\n",
       "      <td>0.283333</td>\n",
       "      <td>0.283333</td>\n",
       "      <td>0.283333</td>\n",
       "      <td>0.277778</td>\n",
       "      <td>0.277778</td>\n",
       "      <td>0.277778</td>\n",
       "    </tr>\n",
       "    <tr>\n",
       "      <th>L2 norm</th>\n",
       "      <td>2.615655</td>\n",
       "      <td>2.609749</td>\n",
       "      <td>2.603857</td>\n",
       "      <td>2.592117</td>\n",
       "      <td>2.580435</td>\n",
       "      <td>2.568810</td>\n",
       "      <td>2.557242</td>\n",
       "    </tr>\n",
       "    <tr>\n",
       "      <th>Cross Val Class error</th>\n",
       "      <td>0.333333</td>\n",
       "      <td>0.333333</td>\n",
       "      <td>0.333333</td>\n",
       "      <td>0.327778</td>\n",
       "      <td>0.327778</td>\n",
       "      <td>0.327778</td>\n",
       "      <td>0.327778</td>\n",
       "    </tr>\n",
       "  </tbody>\n",
       "</table>\n",
       "</div>"
      ],
      "text/plain": [
       "                             0.00        0.05        0.10        0.20  \\\n",
       "Cross entropy error    102.695001  102.884414  103.072320  103.443651   \n",
       "Classification Error     0.283333    0.283333    0.283333    0.283333   \n",
       "L2 norm                  2.615655    2.609749    2.603857    2.592117   \n",
       "Cross Val Class error    0.333333    0.333333    0.333333    0.327778   \n",
       "\n",
       "                             0.30        0.40        0.50  \n",
       "Cross entropy error    103.809079  104.168684  104.522549  \n",
       "Classification Error     0.277778    0.277778    0.277778  \n",
       "L2 norm                  2.580435    2.568810    2.557242  \n",
       "Cross Val Class error    0.327778    0.327778    0.327778  "
      ]
     },
     "execution_count": 336,
     "metadata": {},
     "output_type": "execute_result"
    }
   ],
   "source": [
    "res"
   ]
  },
  {
   "cell_type": "code",
   "execution_count": null,
   "metadata": {
    "collapsed": true
   },
   "outputs": [],
   "source": []
  }
 ],
 "metadata": {
  "kernelspec": {
   "display_name": "Python 3",
   "language": "python",
   "name": "python3"
  },
  "language_info": {
   "codemirror_mode": {
    "name": "ipython",
    "version": 3
   },
   "file_extension": ".py",
   "mimetype": "text/x-python",
   "name": "python",
   "nbconvert_exporter": "python",
   "pygments_lexer": "ipython3",
   "version": "3.6.6"
  }
 },
 "nbformat": 4,
 "nbformat_minor": 2
}
